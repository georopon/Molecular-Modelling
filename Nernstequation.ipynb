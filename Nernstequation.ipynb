{
 "cells": [
  {
   "cell_type": "markdown",
   "metadata": {},
   "source": [
    "# Ecuación de Nernst en python\n",
    "**written: ROPÓN-PALACIOS G., PhD (c)\n",
    "E-mail: biodano.geo@gmail.com, georopon@gmail.com, gropon@conicet.gov.ar"
   ]
  },
  {
   "cell_type": "markdown",
   "metadata": {},
   "source": [
    "La ecuación nos permite calcular el potencial establecido a lo largo de la membrana biológica basada en la valencia y concentración de gradiente de alguna especie iónica (*i.e.  $K^+$, $Ca^{2+}$, $Na^+$*). Este potencial también también es conocido como el potencial de Nernst. Imaginense una célula, transportando $Ca^{2+}$, mediada por algúna proteína asociada a $Ca^{2+}$, *i.e* canales de la familia TRP. Para tal fin unsamos la siguiente ecuación:"
   ]
  },
  {
   "cell_type": "markdown",
   "metadata": {},
   "source": [
    "$$V_{eq}=\\frac{RT}{zF}ln\\frac{[Ion]_{o}}{[Ion]i}$$"
   ]
  },
  {
   "cell_type": "markdown",
   "metadata": {},
   "source": [
    "donde: $V_{eq}$ es el potencial de equilibrio, $R$, $T$, $z$, $F$, son: la constante universal de los gases,\n",
    "        la Temperatura en $K$, la valencia de la especie iónica y la constante de faraday, respectivamente.\n",
    "        Mientras ${[Ion]_{o}}/{[Ion]_{i}}$, son la concentración fuera (out) y dentro (inside) de la célula.\n",
    "      "
   ]
  },
  {
   "cell_type": "code",
   "execution_count": 127,
   "metadata": {},
   "outputs": [
    {
     "name": "stdout",
     "output_type": "stream",
     "text": [
      "El potencial de Nernst es: 137.110542258 mV\n"
     ]
    }
   ],
   "source": [
    "##; Written by: ROPÓN-PALACIOS G., PhD (c)\n",
    "##; Ion Channels Lab, IMSaTeD, UNSE-CONICET, SE, Argentina\n",
    "##; PI, KIPU Bioinformatics, Perú.\n",
    "##; ||| Numerical solution Nernst equation|||\n",
    "\n",
    "##Importando math\n",
    "import math\n",
    "from __future__ import division #; necesario por python 2.7, python 3.7 no!! \n",
    "\n",
    "def nernsteq(z,io,ii):\n",
    "    #; Definiendo constantes\n",
    "    R  = 8.3145        #; unit J/K.mol\n",
    "    T  = 310.15        #; K=C+273.15 C=37 ºC temperatura corporal\n",
    "    F  = 96485.337     #; unit C/mol \n",
    "    #datos\n",
    "    #z  = 2 Ca2+\n",
    "    #io = 2 mM ; concentración en el extracelular\n",
    "    #ii = 0.00007 mM ; 7 nM concentración intracelular\n",
    "    Veq= R*T/float(z*F)*math.log(io/float(ii)) #; definición de la equación de nernst\n",
    "    Veq_mV = Veq*1000                          #; La unidas es J/C = V, para llevarlo a mV multiplicamos por 1000\n",
    "    return Veq_mV\n",
    "    unit = \"mV\"\n",
    "\n",
    "print 'El potencial de Nernst es:'+\" \"+str(nernsteq(2,2,0.00007))+\" \"+'mV'"
   ]
  },
  {
   "cell_type": "code",
   "execution_count": null,
   "metadata": {},
   "outputs": [],
   "source": []
  }
 ],
 "metadata": {
  "kernelspec": {
   "display_name": "Python 2",
   "language": "python",
   "name": "python2"
  },
  "language_info": {
   "codemirror_mode": {
    "name": "ipython",
    "version": 2
   },
   "file_extension": ".py",
   "mimetype": "text/x-python",
   "name": "python",
   "nbconvert_exporter": "python",
   "pygments_lexer": "ipython2",
   "version": "2.7.15"
  }
 },
 "nbformat": 4,
 "nbformat_minor": 2
}
